{
 "cells": [
  {
   "cell_type": "code",
   "execution_count": 1,
   "id": "416ea92b-ad28-4f26-8cfc-5fc3e10b6224",
   "metadata": {},
   "outputs": [
    {
     "name": "stdout",
     "output_type": "stream",
     "text": [
      "Model Accuracy: 46.74%\n"
     ]
    }
   ],
   "source": [
    "import os\n",
    "import cv2\n",
    "import numpy as np\n",
    "from sklearn.model_selection import train_test_split\n",
    "from sklearn.ensemble import RandomForestClassifier\n",
    "from sklearn.metrics import accuracy_score\n",
    "\n",
    "# Define the path to the dataset\n",
    "DATASET_PATH= r\"D:\\working\\python project\\dataset\"\n",
    "\n",
    "# Emotions mapping (subfolder names)\n",
    "EMOTIONS = ['angry', 'disgust', 'fear', 'happy', 'neutral', 'sad', 'surprise']\n",
    "\n",
    "def load_data(folder):\n",
    "    images = []\n",
    "    labels = []\n",
    "    for label, emotion in enumerate(EMOTIONS):\n",
    "        emotion_folder = os.path.join(folder, emotion)\n",
    "        for file in os.listdir(emotion_folder):\n",
    "            img_path = os.path.join(emotion_folder, file)\n",
    "            # Load and preprocess image\n",
    "            img = cv2.imread(img_path, cv2.IMREAD_GRAYSCALE)\n",
    "            img_resized = cv2.resize(img, (48, 48))  # Resize to 48x48\n",
    "            images.append(img_resized)\n",
    "            labels.append(label)\n",
    "    return np.array(images), np.array(labels)\n",
    "\n",
    "# Load training and testing data\n",
    "train_images, train_labels = load_data(os.path.join(r\"D:\\working\\python project\\dataset\", 'train'))\n",
    "test_images, test_labels = load_data(os.path.join(r\"D:\\working\\python project\\dataset\", 'test'))\n",
    "\n",
    "# Normalize images (0-1 range)\n",
    "train_images = train_images / 255.0\n",
    "test_images = test_images / 255.0\n",
    "\n",
    "# Flatten images for ML model\n",
    "train_images_flat = train_images.reshape(train_images.shape[0], -1)\n",
    "test_images_flat = test_images.reshape(test_images.shape[0], -1)\n",
    "# Train a Random Forest classifier\n",
    "emotion_classifier = RandomForestClassifier(n_estimators=100, random_state=42)\n",
    "emotion_classifier.fit(train_images_flat, train_labels)\n",
    "\n",
    "# Test the classifier\n",
    "predictions = emotion_classifier.predict(test_images_flat)\n",
    "accuracy = accuracy_score(test_labels, predictions)\n",
    "\n",
    "print(f\"Model Accuracy: {accuracy * 100:.2f}%\")\n",
    "\n"
   ]
  },
  {
   "cell_type": "code",
   "execution_count": null,
   "id": "14e34956-1388-4238-8ab3-8718806274f7",
   "metadata": {},
   "outputs": [],
   "source": []
  }
 ],
 "metadata": {
  "kernelspec": {
   "display_name": "Python 3 (ipykernel)",
   "language": "python",
   "name": "python3"
  },
  "language_info": {
   "codemirror_mode": {
    "name": "ipython",
    "version": 3
   },
   "file_extension": ".py",
   "mimetype": "text/x-python",
   "name": "python",
   "nbconvert_exporter": "python",
   "pygments_lexer": "ipython3",
   "version": "3.12.2"
  }
 },
 "nbformat": 4,
 "nbformat_minor": 5
}
